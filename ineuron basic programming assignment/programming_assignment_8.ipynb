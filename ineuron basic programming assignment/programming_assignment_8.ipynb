{
 "cells": [
  {
   "cell_type": "code",
   "execution_count": 26,
   "metadata": {},
   "outputs": [],
   "source": [
    "import numpy as np"
   ]
  },
  {
   "cell_type": "code",
   "execution_count": 53,
   "metadata": {},
   "outputs": [],
   "source": [
    "a=np.mat(np.array([[1,2,3],[4,5,6],[7,8,9]]))"
   ]
  },
  {
   "cell_type": "code",
   "execution_count": 54,
   "metadata": {},
   "outputs": [],
   "source": [
    "b=np.mat(np.array([[7,8,9],[10,11,12],[1,2,3]]))"
   ]
  },
  {
   "cell_type": "code",
   "execution_count": 55,
   "metadata": {},
   "outputs": [
    {
     "name": "stdout",
     "output_type": "stream",
     "text": [
      "Addition of two Matrices is\n",
      "[[ 8 10 12]\n",
      " [14 16 18]\n",
      " [ 8 10 12]]\n"
     ]
    }
   ],
   "source": [
    "#Q.1. Write a Python Program to Add Two Matrices?\n",
    "c=a+b\n",
    "print(f\"Addition of two Matrices is\")\n",
    "print(c)"
   ]
  },
  {
   "cell_type": "code",
   "execution_count": 56,
   "metadata": {},
   "outputs": [
    {
     "name": "stdout",
     "output_type": "stream",
     "text": [
      "Multiplication of two Matrices is\n",
      "[[ 30  36  42]\n",
      " [ 84  99 114]\n",
      " [138 162 186]]\n"
     ]
    }
   ],
   "source": [
    "#Q.2. Write a Python Program to Multiply Two Matrices?\n",
    "c=a*b\n",
    "print(f\"Multiplication of two Matrices is\")\n",
    "print(c)"
   ]
  },
  {
   "cell_type": "code",
   "execution_count": 59,
   "metadata": {},
   "outputs": [
    {
     "name": "stdout",
     "output_type": "stream",
     "text": [
      "Normal matrix\n",
      "[[ 30  36  42]\n",
      " [ 84  99 114]\n",
      " [138 162 186]]\n",
      "After transpose\n",
      "[[ 30  84 138]\n",
      " [ 36  99 162]\n",
      " [ 42 114 186]]\n"
     ]
    }
   ],
   "source": [
    "#Q.print(numpy.transpose(matrix))\n",
    "print(\"Normal matrix\")\n",
    "print(c)\n",
    "print(\"After transpose\")\n",
    "print(np.transpose(c))\n",
    "    "
   ]
  },
  {
   "cell_type": "code",
   "execution_count": 78,
   "metadata": {},
   "outputs": [
    {
     "name": "stdout",
     "output_type": "stream",
     "text": [
      "this is a ineuron assignment\n",
      "after sorting new string look like\n",
      "a assignment ineuron is this\n"
     ]
    }
   ],
   "source": [
    "#Q.4. Write a Python Program to Sort Words in Alphabetic Order?\n",
    "a=input(\"\")\n",
    "b=a.lower()\n",
    "c=b.split()\n",
    "c.sort()\n",
    "print(\"after sorting new string look like\")\n",
    "print(*c)\n"
   ]
  },
  {
   "cell_type": "code",
   "execution_count": 81,
   "metadata": {},
   "outputs": [
    {
     "name": "stdout",
     "output_type": "stream",
     "text": [
      "Enter a string: hello!! Ineuron#\n",
      "hello Ineuron\n"
     ]
    }
   ],
   "source": [
    "# define punctuation\n",
    "punctuations = '''!()-[]{};:'\"\\,<>./?@#$%^&*_~'''\n",
    "my_str = input(\"Enter a string: \")\n",
    "no_punct = \"\"\n",
    "for i in my_str:\n",
    "    if i not in punctuations:\n",
    "        no_punct = no_punct + i\n",
    "print(no_punct)"
   ]
  },
  {
   "cell_type": "code",
   "execution_count": null,
   "metadata": {},
   "outputs": [],
   "source": []
  }
 ],
 "metadata": {
  "kernelspec": {
   "display_name": "Python 3",
   "language": "python",
   "name": "python3"
  },
  "language_info": {
   "codemirror_mode": {
    "name": "ipython",
    "version": 3
   },
   "file_extension": ".py",
   "mimetype": "text/x-python",
   "name": "python",
   "nbconvert_exporter": "python",
   "pygments_lexer": "ipython3",
   "version": "3.8.5"
  }
 },
 "nbformat": 4,
 "nbformat_minor": 4
}
