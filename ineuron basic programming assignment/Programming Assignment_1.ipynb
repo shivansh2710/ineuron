{
 "cells": [
  {
   "cell_type": "code",
   "execution_count": 1,
   "metadata": {},
   "outputs": [
    {
     "name": "stdout",
     "output_type": "stream",
     "text": [
      "hello python\n"
     ]
    }
   ],
   "source": [
    "# Q1 Write a Python program to print \"Hello Python\"?\n",
    "\n",
    "print(\"hello python\")"
   ]
  },
  {
   "cell_type": "code",
   "execution_count": 2,
   "metadata": {},
   "outputs": [
    {
     "name": "stdout",
     "output_type": "stream",
     "text": [
      "enter no. a10\n",
      "enter no. b5\n",
      "15\n",
      "2.0\n"
     ]
    }
   ],
   "source": [
    "# Q2 Write a Python program to do arithmetical operations addition and division.?\n",
    "a=int(input(\"enter no. a\"))\n",
    "b=int(input(\"enter no. b\"))\n",
    "c=a+b\n",
    "d=a/b\n",
    "print(c)\n",
    "print(d)"
   ]
  },
  {
   "cell_type": "code",
   "execution_count": 3,
   "metadata": {},
   "outputs": [
    {
     "name": "stdout",
     "output_type": "stream",
     "text": [
      "enter height10\n",
      "enter no. base10\n",
      "50.0\n"
     ]
    }
   ],
   "source": [
    "# Q3 Write a Python program to find the area of a triangle?\n",
    "x=int(input(\"enter height\"))\n",
    "y=int(input(\"enter no. base\"))\n",
    "c=0.5*x*y\n",
    "print(c)"
   ]
  },
  {
   "cell_type": "code",
   "execution_count": 6,
   "metadata": {},
   "outputs": [
    {
     "name": "stdout",
     "output_type": "stream",
     "text": [
      "enter no. a10\n",
      "enter no. b12\n",
      "12 10\n"
     ]
    }
   ],
   "source": [
    "# Q4 Write a Python program to swap two variables?\n",
    "a=int(input(\"enter no. a\"))\n",
    "b=int(input(\"enter no. b\"))\n",
    "c=a\n",
    "a=b\n",
    "b=c\n",
    "print(a,b)"
   ]
  },
  {
   "cell_type": "code",
   "execution_count": 13,
   "metadata": {},
   "outputs": [
    {
     "name": "stdout",
     "output_type": "stream",
     "text": [
      "3\n",
      "2\n"
     ]
    }
   ],
   "source": [
    "# Q5 Write a Python program to generate a random number?\n",
    "import random\n",
    "\n",
    "print(random.randint(0,9))\n",
    "print(random.randint(0,9))"
   ]
  },
  {
   "cell_type": "code",
   "execution_count": null,
   "metadata": {},
   "outputs": [],
   "source": []
  }
 ],
 "metadata": {
  "kernelspec": {
   "display_name": "Python 3",
   "language": "python",
   "name": "python3"
  },
  "language_info": {
   "codemirror_mode": {
    "name": "ipython",
    "version": 3
   },
   "file_extension": ".py",
   "mimetype": "text/x-python",
   "name": "python",
   "nbconvert_exporter": "python",
   "pygments_lexer": "ipython3",
   "version": "3.8.5"
  }
 },
 "nbformat": 4,
 "nbformat_minor": 4
}
