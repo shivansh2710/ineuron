{
 "cells": [
  {
   "cell_type": "code",
   "execution_count": 19,
   "metadata": {},
   "outputs": [
    {
     "name": "stdout",
     "output_type": "stream",
     "text": [
      "175\n",
      "175 is a disarium number\n"
     ]
    }
   ],
   "source": [
    "#Q1. Write a Python program to check if the given number is a Disarium Number?\n",
    "a=int(input())\n",
    "c=a\n",
    "b=len(str(a))\n",
    "s=0\n",
    "r=0\n",
    "while(a>0):\n",
    "    r=a%10\n",
    "    s=s+(r**b)\n",
    "    a=a//10\n",
    "    b=b-1\n",
    "if(s==c):\n",
    "    print(f\"{c} is a disarium number\")\n",
    "else:\n",
    "    print(f'{c} is not a disarium number')"
   ]
  },
  {
   "cell_type": "code",
   "execution_count": 4,
   "metadata": {},
   "outputs": [
    {
     "name": "stdout",
     "output_type": "stream",
     "text": [
      "Disarium numbers between 1 and 100 are\n",
      "1 2 3 4 5 6 7 8 9 89 "
     ]
    }
   ],
   "source": [
    "#2. Write a Python program to print all disarium numbers between 1 to 100?\n",
    "def calculateLength(n):    \n",
    "    length = 0;    \n",
    "    while(n != 0):    \n",
    "        length = length + 1;    \n",
    "        n = n//10;    \n",
    "    return length;    \n",
    "        \n",
    "def sumOfDigits(num):    \n",
    "    rem = sum = 0;    \n",
    "    len = calculateLength(num);    \n",
    "        \n",
    "    while(num > 0):    \n",
    "        rem = num%10;    \n",
    "        sum = sum + (rem**len);    \n",
    "        num = num//10;    \n",
    "        len = len - 1;    \n",
    "    return sum;    \n",
    "      \n",
    "result = 0;    \n",
    "     \n",
    "print(\"Disarium numbers between 1 and 100 are\");    \n",
    "for i in range(1, 101):    \n",
    "    result = sumOfDigits(i);    \n",
    "        \n",
    "    if(result == i):    \n",
    "        print(i,end=' '), "
   ]
  },
  {
   "cell_type": "code",
   "execution_count": null,
   "metadata": {},
   "outputs": [],
   "source": [
    "a=32\n",
    "s=0 \n",
    "r=0\n",
    "while(n>0):\n",
    "    b=a%10\n",
    "    s=s+(b**l)\n",
    "    \n",
    "def length(n):\n",
    "    b=str(n)\n",
    "    c=len(b)\n",
    "    return c\n",
    "def happy(nn):\n",
    "    while(n>0):\n",
    "        b=a%10\n",
    "        s=s+(b**c)\n",
    "        nn=nn/10"
   ]
  },
  {
   "cell_type": "code",
   "execution_count": 6,
   "metadata": {},
   "outputs": [
    {
     "name": "stdout",
     "output_type": "stream",
     "text": [
      "32 is a happy number\n"
     ]
    }
   ],
   "source": [
    "#Q3. Write a Python program to check if the given number is Happy Number?\n",
    "def isHappyNumber(num):    \n",
    "    rem = sum = 0;    \n",
    "        \n",
    "    #Calculates the sum of squares of digits    \n",
    "    while(num > 0):    \n",
    "        rem = num%10;    \n",
    "        sum = sum + (rem*rem);    \n",
    "        num = num//10;    \n",
    "    return sum;    \n",
    "        \n",
    "num = 32;    \n",
    "result = num;    \n",
    "     \n",
    "while(result != 1 and result != 4):    \n",
    "    result = isHappyNumber(result);    \n",
    "     \n",
    "#Happy number always ends with 1    \n",
    "if(result == 1):    \n",
    "    print(str(num) + \" is a happy number\");    \n",
    "#Unhappy number ends in a cycle of repeating numbers which contain 4    \n",
    "elif(result == 4):    \n",
    "    print(str(num) + \" is not a happy number\");   "
   ]
  },
  {
   "cell_type": "code",
   "execution_count": 8,
   "metadata": {},
   "outputs": [
    {
     "name": "stdout",
     "output_type": "stream",
     "text": [
      "Happy number between 1 to 100\n",
      "[1, 7, 10, 13, 19, 23, 28, 31, 32, 44, 49, 68, 70, 79, 82, 86, 91, 94, 97]\n"
     ]
    }
   ],
   "source": [
    "#Q4. Write a Python program to print all happy numbers between 1 and 100?\n",
    "a=[]\n",
    "def isHappyNumber(num):    \n",
    "    rem = sum = 0;    \n",
    "        \n",
    "       \n",
    "    while(num > 0):    \n",
    "        rem = num%10;    \n",
    "        sum = sum + (rem*rem);    \n",
    "        num = num//10;    \n",
    "    return sum;    \n",
    "        \n",
    "for i in range(1,100):\n",
    "    \n",
    "    num = i;    \n",
    "    result = num;    \n",
    "     \n",
    "    while(result != 1 and result != 4):    \n",
    "        result = isHappyNumber(result);    \n",
    "     \n",
    "   \n",
    "    if(result == 1):    \n",
    "        \n",
    "        a.append(i)\n",
    "            \n",
    "            \n",
    "   \n",
    "    elif(result == 4):    \n",
    "        pass\n",
    "print('Happy number between 1 to 100')\n",
    "print(a)\n"
   ]
  },
  {
   "cell_type": "code",
   "execution_count": 21,
   "metadata": {},
   "outputs": [
    {
     "name": "stdout",
     "output_type": "stream",
     "text": [
      "1729\n",
      "1729 is a Harshad number\n"
     ]
    }
   ],
   "source": [
    "#Q.Write a Python program to determine whether the given number is a Harshad Number?\n",
    "\n",
    "def harshad(a):\n",
    "   \n",
    "    b=a\n",
    "    r=0\n",
    "    s=0\n",
    "    while(a>0):\n",
    "        r=a%10\n",
    "        s=s+r\n",
    "        a=a//10\n",
    "\n",
    "    if(b%s==0):\n",
    "        print(f'{b} is a Harshad number')\n",
    "    else:\n",
    "        print(f'{b} is not a Harshad number')\n",
    "a=int(input())\n",
    "harshad(a)\n",
    "        "
   ]
  },
  {
   "cell_type": "code",
   "execution_count": 28,
   "metadata": {},
   "outputs": [
    {
     "name": "stdout",
     "output_type": "stream",
     "text": [
      "10\n",
      "pronic number between 1 to 10 are\n",
      "2\n",
      "6\n",
      "12\n",
      "20\n",
      "30\n",
      "42\n",
      "56\n",
      "72\n",
      "90\n",
      "110\n"
     ]
    }
   ],
   "source": [
    "#Q6. Write a Python program to print all pronic numbers between 1 and 100?\n",
    "n=int(input())\n",
    "print(f'pronic number between 1 to {n} are')\n",
    "for i in range(1,n+1):\n",
    "    print(f'{i*(i+1)}')"
   ]
  },
  {
   "cell_type": "code",
   "execution_count": null,
   "metadata": {},
   "outputs": [],
   "source": []
  }
 ],
 "metadata": {
  "kernelspec": {
   "display_name": "Python 3",
   "language": "python",
   "name": "python3"
  },
  "language_info": {
   "codemirror_mode": {
    "name": "ipython",
    "version": 3
   },
   "file_extension": ".py",
   "mimetype": "text/x-python",
   "name": "python",
   "nbconvert_exporter": "python",
   "pygments_lexer": "ipython3",
   "version": "3.8.5"
  }
 },
 "nbformat": 4,
 "nbformat_minor": 4
}
