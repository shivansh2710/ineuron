{
 "cells": [
  {
   "cell_type": "code",
   "execution_count": 3,
   "metadata": {},
   "outputs": [
    {
     "name": "stdout",
     "output_type": "stream",
     "text": [
      "enter first number20\n",
      "enter second number28\n",
      "LCM is 140\n"
     ]
    }
   ],
   "source": [
    "# Q1  Write a Python Program to Find LCM?\n",
    "a=int(input(\"enter first number\"))\n",
    "b=int(input(\"enter second number\"))\n",
    "for i in range(1,a*b+1):\n",
    "    if(i%a==0 and i%b==0):\n",
    "        print(\"LCM is\",i)\n",
    "        break\n",
    "      "
   ]
  },
  {
   "cell_type": "code",
   "execution_count": 7,
   "metadata": {},
   "outputs": [
    {
     "name": "stdout",
     "output_type": "stream",
     "text": [
      "enter first number56\n",
      "enter second number3\n",
      "HCF is  1\n"
     ]
    }
   ],
   "source": [
    "# Q2 Write a Python Program to Find HCF?\n",
    "a=int(input(\"enter first number\"))\n",
    "b=int(input(\"enter second number\"))\n",
    "c=min(a,b)\n",
    "for i in range(1,c+1):\n",
    "    if(a%i==0 and b%i==0):\n",
    "        HCF=i\n",
    "print(\"HCF is \",HCF)\n",
    "        "
   ]
  },
  {
   "cell_type": "code",
   "execution_count": 2,
   "metadata": {},
   "outputs": [
    {
     "name": "stdout",
     "output_type": "stream",
     "text": [
      "enter any decimal number4\n",
      "enter any octal number5123\n",
      "0b100\n",
      "Equivalent Hexadecimal Value = a53\n"
     ]
    }
   ],
   "source": [
    "# Q3 Write a Python Program to Convert Decimal to Binary, Octal and Hexadecimal?\n",
    "a=int(input(\"enter any decimal number\"))\n",
    "b=input(\"enter any octal number\")\n",
    "print(bin(a))\n",
    "decnum = int(b, 8)\n",
    "hexadecimal = hex(decnum).replace(\"0x\", \"\")\n",
    "print(\"Equivalent Hexadecimal Value =\", hexadecimal)"
   ]
  },
  {
   "cell_type": "code",
   "execution_count": 11,
   "metadata": {},
   "outputs": [
    {
     "name": "stdout",
     "output_type": "stream",
     "text": [
      "enter characters\n",
      "The ASCII value of s is 115\n"
     ]
    }
   ],
   "source": [
    "# Q4. Write a Python Program To Find ASCII value of a character?\n",
    "c = input(\"enter character\")\n",
    "print(\"The ASCII value of {} is {}\".format(c,ord(c)))"
   ]
  },
  {
   "cell_type": "code",
   "execution_count": 14,
   "metadata": {},
   "outputs": [
    {
     "name": "stdout",
     "output_type": "stream",
     "text": [
      "enter first number10\n",
      "enter second number20\n",
      "enter 1 for addition\n",
      " enter 2 for division \n",
      " enter 3 for multiplication \n",
      " enter 4 for subtraction1\n",
      "addition of two number is  30\n"
     ]
    }
   ],
   "source": [
    "# Q5. Write a Python Program to Make a Simple Calculator with 4 basic mathematical operations?\n",
    "a=int(input(\"enter first number\"))\n",
    "b=int(input(\"enter second number\"))\n",
    "c=int(input(\"enter 1 for addition\\n enter 2 for division \\n enter 3 for multiplication \\n enter 4 for subtraction\"))\n",
    "if(c==1):\n",
    "    print(\"addition of two number is \",a+b)\n",
    "elif(c==2):\n",
    "    print(\"division of two number is \",a/b)\n",
    "elif(c==3):\n",
    "    print(\"multiplication of two number is\",a*b)\n",
    "elif(c==4):\n",
    "    print(\"subtraction of two number is\",a-b)"
   ]
  },
  {
   "cell_type": "code",
   "execution_count": null,
   "metadata": {},
   "outputs": [],
   "source": []
  }
 ],
 "metadata": {
  "kernelspec": {
   "display_name": "Python 3",
   "language": "python",
   "name": "python3"
  },
  "language_info": {
   "codemirror_mode": {
    "name": "ipython",
    "version": 3
   },
   "file_extension": ".py",
   "mimetype": "text/x-python",
   "name": "python",
   "nbconvert_exporter": "python",
   "pygments_lexer": "ipython3",
   "version": "3.8.5"
  }
 },
 "nbformat": 4,
 "nbformat_minor": 4
}
