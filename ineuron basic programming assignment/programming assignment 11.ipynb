{
 "cells": [
  {
   "cell_type": "code",
   "execution_count": 1,
   "metadata": {},
   "outputs": [
    {
     "name": "stdout",
     "output_type": "stream",
     "text": [
      "3 \n",
      "acdddd\n"
     ]
    }
   ],
   "source": [
    "#1. Write a Python program to find words which are greater than given length k?\n",
    "a=['abc','abcd','acdddd']\n",
    "n=int(input())\n",
    "for i in range(len(a)):\n",
    "    if(len(a[i])>4):\n",
    "        print(a[i])"
   ]
  },
  {
   "cell_type": "code",
   "execution_count": 2,
   "metadata": {},
   "outputs": [
    {
     "name": "stdout",
     "output_type": "stream",
     "text": [
      "ineuron\n",
      "3\n",
      "ineron\n"
     ]
    }
   ],
   "source": [
    "#2. Write a Python program for removing i-th character from a string?\n",
    "def r(string,i):\n",
    "    for j in range(len(string)):\n",
    "        if i==j:\n",
    "            string=string.replace(string[i],'',1)\n",
    "    return string\n",
    "string=input()\n",
    "i=int(input())\n",
    "print(r(string,i))"
   ]
  },
  {
   "cell_type": "code",
   "execution_count": 70,
   "metadata": {},
   "outputs": [
    {
     "data": {
      "text/plain": [
       "'hello hello1 world'"
      ]
     },
     "execution_count": 70,
     "metadata": {},
     "output_type": "execute_result"
    }
   ],
   "source": [
    "#3. Write a Python program to split and join a string?\n",
    "a=\"hello world\"\n",
    "b=' hello1 '\n",
    "a=a.split()\n",
    "b.join(a)"
   ]
  },
  {
   "cell_type": "code",
   "execution_count": 1,
   "metadata": {},
   "outputs": [
    {
     "name": "stdout",
     "output_type": "stream",
     "text": [
      "11001110\n",
      "binary\n"
     ]
    }
   ],
   "source": [
    "#4. Write a Python to check if a given string is binary string or not?\n",
    "a=input()\n",
    "b=set(a)\n",
    "c={'0','1'}\n",
    "if(b == c):\n",
    "    print('binary')\n",
    "else:\n",
    "    print('not binary')\n",
    "    "
   ]
  },
  {
   "cell_type": "code",
   "execution_count": 15,
   "metadata": {},
   "outputs": [
    {
     "name": "stdout",
     "output_type": "stream",
     "text": [
      " ineuron\n"
     ]
    }
   ],
   "source": [
    "#Q5. Write a Python program to find uncommon words from two Strings?\n",
    "a='hello ineuron'\n",
    "b='hello'\n",
    "c=a.replace(b,'')\n",
    "print(c)\n"
   ]
  },
  {
   "cell_type": "code",
   "execution_count": 47,
   "metadata": {},
   "outputs": [
    {
     "name": "stdout",
     "output_type": "stream",
     "text": [
      "big\n",
      "black\n"
     ]
    }
   ],
   "source": [
    "#Q6. Write a Python to find all duplicate characters in string?\n",
    "a='big black bug bit a big black dog on his big black nose '\n",
    "b=a.split(' ')\n",
    "\n",
    "for i in range(len(b)):\n",
    "    c=1\n",
    "    for j in range(i+1,len(b)):\n",
    "        if (b[i]==(b[j])):\n",
    "            c=c+1\n",
    "            b[j]='0'\n",
    "    if (c>1 and b[i]!='0'):\n",
    "        print(b[i])"
   ]
  },
  {
   "cell_type": "code",
   "execution_count": 61,
   "metadata": {},
   "outputs": [
    {
     "name": "stdout",
     "output_type": "stream",
     "text": [
      "True\n"
     ]
    }
   ],
   "source": [
    "#Q7. Write a Python Program to check if a string contains any special character?\n",
    "a='dfdfhj@'\n",
    "b='@_!#$%^&*()<>?/\\|}{~:'\n",
    "for i in range(len(a)):\n",
    "    if a[i] in b:\n",
    "        print(True)\n",
    "        break\n",
    "else:\n",
    "    print(False)\n",
    "        "
   ]
  }
 ],
 "metadata": {
  "kernelspec": {
   "display_name": "Python 3",
   "language": "python",
   "name": "python3"
  },
  "language_info": {
   "codemirror_mode": {
    "name": "ipython",
    "version": 3
   },
   "file_extension": ".py",
   "mimetype": "text/x-python",
   "name": "python",
   "nbconvert_exporter": "python",
   "pygments_lexer": "ipython3",
   "version": "3.8.5"
  }
 },
 "nbformat": 4,
 "nbformat_minor": 4
}
