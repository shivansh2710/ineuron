{
 "cells": [
  {
   "cell_type": "code",
   "execution_count": 18,
   "metadata": {},
   "outputs": [
    {
     "name": "stdout",
     "output_type": "stream",
     "text": [
      "enter number0\n",
      "number is less than 1\n"
     ]
    }
   ],
   "source": [
    "# Q1 Write a Python Program to Find the Factorial of a Number?\n",
    "a= int(input(\"enter number\"))\n",
    "f=1\n",
    "if a<1:\n",
    "    print(\"number is less than 1\")\n",
    "elif a==1:\n",
    "    print(\"factorial if 1\")\n",
    "\n",
    "else:\n",
    "    for i in range(1,a+1):\n",
    "        f=f*i\n",
    "    print(f)"
   ]
  },
  {
   "cell_type": "code",
   "execution_count": 29,
   "metadata": {},
   "outputs": [
    {
     "name": "stdout",
     "output_type": "stream",
     "text": [
      "enter number7\n",
      "7 x 1 = 7\n",
      "7 x 2 = 14\n",
      "7 x 3 = 21\n",
      "7 x 4 = 28\n",
      "7 x 5 = 35\n",
      "7 x 6 = 42\n",
      "7 x 7 = 49\n",
      "7 x 8 = 56\n",
      "7 x 9 = 63\n",
      "7 x 10 = 70\n"
     ]
    }
   ],
   "source": [
    "# Q2 Write a Python Program to Display the multiplication Table?\n",
    "a= int(input(\"enter number\"))\n",
    "for i in range(1,11):\n",
    "    print(a ,'x', i,'=', a*i)"
   ]
  },
  {
   "cell_type": "code",
   "execution_count": 40,
   "metadata": {},
   "outputs": [
    {
     "name": "stdout",
     "output_type": "stream",
     "text": [
      "enter number9\n",
      "0 1 1 2 3 5 8 13 21 "
     ]
    }
   ],
   "source": [
    "# Q3  Write a Python Program to Print the Fibonacci sequence?\n",
    "n=int(input(\"enter number\"))\n",
    "first=0\n",
    "second=1\n",
    "if n<=0:\n",
    "    print(\"required series is \",first)\n",
    "else:\n",
    "     print(first,second,end=\" \")\n",
    "for i in range(2,n):\n",
    "    next=first+second\n",
    "    print(next,end=\" \")\n",
    "    first=second\n",
    "    second=next\n",
    "    "
   ]
  },
  {
   "cell_type": "code",
   "execution_count": 8,
   "metadata": {},
   "outputs": [
    {
     "name": "stdout",
     "output_type": "stream",
     "text": [
      "enter any number153\n",
      "153 is an Armstrong number\n"
     ]
    }
   ],
   "source": [
    "# Q4 Write a Python Program to Check Armstrong Number?\n",
    "num =int(input(\"enter any number\"))\n",
    "order = len(str(num))\n",
    "sum = 0\n",
    "temp = num\n",
    "while temp > 0:\n",
    "    digit = temp % 10\n",
    "    sum += digit ** order\n",
    "    temp //= 10\n",
    "if num == sum:\n",
    "    print(num,\"is an Armstrong number\")\n",
    "else:\n",
    "    print(num,\"is not an Armstrong number\")"
   ]
  },
  {
   "cell_type": "code",
   "execution_count": 10,
   "metadata": {},
   "outputs": [
    {
     "name": "stdout",
     "output_type": "stream",
     "text": [
      "enter lower limit100\n",
      "enter upper limit1000\n",
      "153 370 371 407 "
     ]
    }
   ],
   "source": [
    "# Q5 Write a Python Program to Find Armstrong Number in an Interval?\n",
    "# Program to check Armstrong numbers in a certain interval\n",
    "\n",
    "lower =int(input(\"enter lower limit\"))\n",
    "upper =int(input(\"enter upper limit\"))\n",
    "\n",
    "for num in range(lower, upper + 1):\n",
    "    order = len(str(num))\n",
    "    sum = 0\n",
    "    temp = num\n",
    "    while temp > 0:\n",
    "        digit = temp % 10\n",
    "        sum += digit ** order\n",
    "        temp //= 10\n",
    "\n",
    "    if num == sum:\n",
    "        print(num,end=\" \")\n"
   ]
  },
  {
   "cell_type": "code",
   "execution_count": 21,
   "metadata": {},
   "outputs": [
    {
     "name": "stdout",
     "output_type": "stream",
     "text": [
      "enter upper limit100\n",
      "5050\n"
     ]
    }
   ],
   "source": [
    "# Q6 Write a Python Program to Find the Sum of Natural Numbers?\n",
    "a=int(input(\"enter upper limit\"))\n",
    "sum=0\n",
    "for i in range(0,a+1):\n",
    "    sum+=i\n",
    "print(sum)"
   ]
  },
  {
   "cell_type": "code",
   "execution_count": null,
   "metadata": {},
   "outputs": [],
   "source": []
  },
  {
   "cell_type": "code",
   "execution_count": null,
   "metadata": {},
   "outputs": [],
   "source": []
  }
 ],
 "metadata": {
  "kernelspec": {
   "display_name": "Python 3",
   "language": "python",
   "name": "python3"
  },
  "language_info": {
   "codemirror_mode": {
    "name": "ipython",
    "version": 3
   },
   "file_extension": ".py",
   "mimetype": "text/x-python",
   "name": "python",
   "nbconvert_exporter": "python",
   "pygments_lexer": "ipython3",
   "version": "3.8.5"
  }
 },
 "nbformat": 4,
 "nbformat_minor": 4
}
