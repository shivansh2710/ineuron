{
 "cells": [
  {
   "cell_type": "code",
   "execution_count": 30,
   "metadata": {},
   "outputs": [
    {
     "name": "stdout",
     "output_type": "stream",
     "text": [
      "enter number5\n",
      "0\n",
      "1\n",
      "1\n",
      "2\n",
      "3\n"
     ]
    }
   ],
   "source": [
    "# Q1. Write a Python Program to Display Fibonacci Sequence Using Recursion?\n",
    "\n",
    "def fib(n):\n",
    "    if n<=1:\n",
    "        return n\n",
    "    else:\n",
    "        return(fib(n-1)+fib(n-2))\n",
    "a=int(input(\"enter number\"))\n",
    "for i in range(a):\n",
    "    print(fib(i))"
   ]
  },
  {
   "cell_type": "code",
   "execution_count": 33,
   "metadata": {},
   "outputs": [
    {
     "name": "stdout",
     "output_type": "stream",
     "text": [
      "enter number5\n",
      "The factorial of 5 is 120\n"
     ]
    }
   ],
   "source": [
    "# Q2. Write a Python Program to Find Factorial of Number Using Recursion?\n",
    "def fac(i):\n",
    "    if i == 1:\n",
    "        return i\n",
    "    else:\n",
    "        return i*fac(i-1)\n",
    "n=int(input(\"enter number\"))\n",
    "if n < 0:\n",
    "    print(\"Sorry, factorial does not exist for negative numbers\")\n",
    "elif n == 0:\n",
    "    print(\"The factorial of 0 is 1\")\n",
    "else:\n",
    "    print(\"The factorial of\", n, \"is\", recur_factorial(n))"
   ]
  },
  {
   "cell_type": "code",
   "execution_count": 35,
   "metadata": {},
   "outputs": [
    {
     "name": "stdout",
     "output_type": "stream",
     "text": [
      "Enter height in meters: 1.8\n",
      "Enter weight in kg: 77\n",
      "Your BMI is: 23.76543209876543 and you are: Healthy\n"
     ]
    }
   ],
   "source": [
    "# Q3. Write a Python Program to calculate your Body Mass Index?\n",
    "\n",
    "h = float(input(\"Enter height in meters: \"))\n",
    "w = float(input(\"Enter weight in kg: \"))\n",
    "bmi = w/(h**2) \n",
    "print(\"Your BMI is: {0} and you are: \".format(bmi), end='')\n",
    "if ( bmi < 16):\n",
    "    print(\"severely underweight\")\n",
    "elif ( bmi >= 16 and bmi < 18.5):\n",
    "    print(\"underweight\")\n",
    "elif ( bmi >= 18.5 and bmi < 25):\n",
    "    print(\"Healthy\")\n",
    "elif ( bmi >= 25 and bmi < 30):\n",
    "    print(\"overweight\")\n",
    "elif ( bmi >=30):\n",
    "    print(\"severely overweight\")"
   ]
  },
  {
   "cell_type": "code",
   "execution_count": 36,
   "metadata": {},
   "outputs": [
    {
     "name": "stdout",
     "output_type": "stream",
     "text": [
      "enter number4\n",
      "math.log(4.0) :  1.3862943611198906\n"
     ]
    }
   ],
   "source": [
    "# Q4. Write a Python Program to calculate the natural logarithm of any number?\n",
    "import math\n",
    "n=float(input(\"enter number\"))\n",
    "print (\"math.log({}) : \".format(n), math.log(n))"
   ]
  },
  {
   "cell_type": "code",
   "execution_count": 51,
   "metadata": {},
   "outputs": [
    {
     "name": "stdout",
     "output_type": "stream",
     "text": [
      "enter number5\n",
      "the sum of first 5 natural no. is 225\n"
     ]
    }
   ],
   "source": [
    "# Q5. Write a Python Program for cube sum of first n natural numbers?\n",
    "n=int(input(\"enter number\"))\n",
    "sum=0\n",
    "for i in range(1,n+1):\n",
    "     sum +=i*i*i\n",
    "    \n",
    "print(\"the sum of first {} natural no. is\".format(n),sum)"
   ]
  },
  {
   "cell_type": "code",
   "execution_count": null,
   "metadata": {},
   "outputs": [],
   "source": []
  }
 ],
 "metadata": {
  "kernelspec": {
   "display_name": "Python 3",
   "language": "python",
   "name": "python3"
  },
  "language_info": {
   "codemirror_mode": {
    "name": "ipython",
    "version": 3
   },
   "file_extension": ".py",
   "mimetype": "text/x-python",
   "name": "python",
   "nbconvert_exporter": "python",
   "pygments_lexer": "ipython3",
   "version": "3.8.5"
  }
 },
 "nbformat": 4,
 "nbformat_minor": 4
}
